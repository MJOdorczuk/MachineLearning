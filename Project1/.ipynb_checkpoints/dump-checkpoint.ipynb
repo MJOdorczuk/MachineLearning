{
 "cells": [
  {
   "cell_type": "code",
   "execution_count": null,
   "metadata": {},
   "outputs": [],
   "source": [
    "def bootstrap_analysis_ridge_lambas(nlambdas = 10):\n",
    "    np.random.seed(10)\n",
    "    lambdas = np.logspace(-4,4, nlambdas)\n",
    "    mse_aggregate = np.zeros([3, nlambdas])\n",
    "    best_complexities = np.zeros([3,nlambdas])\n",
    "    for data_point_index, data_points in enumerate([20, 50, 100]):\n",
    "        print(f\"Number of datapoints {data_points}\")\n",
    "        global_best_mse = float('inf')\n",
    "        global_best_complexity = 0\n",
    "        best_num_bstraps = 0\n",
    "        best_train_split = 0\n",
    "        best_lamb = 0\n",
    "        for lamb_ind, lamb in enumerate(lambdas):\n",
    "            best_mse, best_complexity = bias_variance_analysis_bootstrap(Ridge, data_points, max_degree=10, num_bootstraps = data_points, lamb = lamb, plot_log = False, plot = False)\n",
    "            #print(f\"Lambda: {lamb}. Datapoints: {data_points}. MSE: {best_mse}\")\n",
    "            if best_mse < global_best_mse:\n",
    "                global_best_mse = best_mse\n",
    "                global_best_complexity = best_complexity\n",
    "                best_num_bstraps = data_points\n",
    "                best_lamb = lamb\n",
    "            \n",
    "            mse_aggregate[data_point_index, lamb_ind] = best_mse\n",
    "            best_complexities[data_point_index, lamb_ind] = best_complexity\n",
    "                \n",
    "        print(f\"Best lambda: {best_lamb} Best global: {global_best_mse} at complexity: {global_best_complexity} for number of datapoints: {data_points}, num_bootstraps = {data_points}\")\n",
    "        print(bias_variance_analysis_bootstrap(Ridge, data_points, max_degree=10, num_bootstraps = best_num_bstraps, plot=True, plot_log=False,  lamb = best_lamb))\n",
    "        \n",
    "    return mse_aggregate, lambdas, best_complexities\n",
    "\n",
    "\n",
    "def plot_lambda_dependency():\n",
    "    mse_aggregate, lambdas, complexity = bootstrap_analysis_ridge_lambas(100)\n",
    "    for i, data_points in enumerate(mse_aggregate):\n",
    "        fig, ax1 = plt.subplots()\n",
    "        color = 'tab:red'\n",
    "        ax1.set_xlabel('log10(lambda)')\n",
    "        ax1.set_ylabel('mse')\n",
    "        ax1.plot(np.log10(lambdas), data_points, label = 'MSE per lambda', color = color)\n",
    "        ax1.tick_params(axis='y', labelcolor=color)\n",
    "        \n",
    "        ax2 = ax1.twinx()\n",
    "        color = 'tab:blue'\n",
    "        ax2.set_ylabel('Complexity', color=color)\n",
    "        ax2.plot(np.log10(lambdas), complexity[i], color=color, label=\"Best Complexity\")\n",
    "        ax2.tick_params(axis='y', labelcolor=color)\n",
    "\n",
    "        fig.tight_layout()  # otherwise the right y-label is slightly clipped    \n",
    "        plt.title(f\"MSE per lambda for {len(data_points)} datapoints\")\n",
    "        ax1.legend()\n",
    "        ax2.legend()\n",
    "        plt.show()\n",
    "\n",
    "plot_lambda_dependency()"
   ]
  }
 ],
 "metadata": {
  "kernelspec": {
   "display_name": "Python 3",
   "language": "python",
   "name": "python3"
  },
  "language_info": {
   "codemirror_mode": {
    "name": "ipython",
    "version": 3
   },
   "file_extension": ".py",
   "mimetype": "text/x-python",
   "name": "python",
   "nbconvert_exporter": "python",
   "pygments_lexer": "ipython3",
   "version": "3.7.6"
  }
 },
 "nbformat": 4,
 "nbformat_minor": 4
}
